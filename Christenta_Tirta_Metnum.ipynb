{
  "nbformat": 4,
  "nbformat_minor": 0,
  "metadata": {
    "colab": {
      "provenance": [],
      "authorship_tag": "ABX9TyMGbeCWLBd0IW8BX2URS9tN",
      "include_colab_link": true
    },
    "kernelspec": {
      "name": "python3",
      "display_name": "Python 3"
    },
    "language_info": {
      "name": "python"
    }
  },
  "cells": [
    {
      "cell_type": "markdown",
      "metadata": {
        "id": "view-in-github",
        "colab_type": "text"
      },
      "source": [
        "<a href=\"https://colab.research.google.com/github/ChristentaTP/METNUM-TUGAS-IMPLEMENTASI-SPL-Christenta-21120122140137/blob/main/Christenta_Tirta_Metnum.ipynb\" target=\"_parent\"><img src=\"https://colab.research.google.com/assets/colab-badge.svg\" alt=\"Open In Colab\"/></a>"
      ]
    },
    {
      "cell_type": "code",
      "execution_count": 1,
      "metadata": {
        "colab": {
          "base_uri": "https://localhost:8080/"
        },
        "id": "-0xlcgpouaWH",
        "outputId": "ee0f245e-35b3-4df5-9ecb-4b3b44c1c6cc"
      },
      "outputs": [
        {
          "output_type": "stream",
          "name": "stdout",
          "text": [
            "Matriks A:\n",
            "[[1 2]\n",
            " [3 4]]\n",
            "\n",
            "Matriks Balikan dari A:\n",
            "[[-2.   1. ]\n",
            " [ 1.5 -0.5]]\n"
          ]
        }
      ],
      "source": [
        "import numpy as np\n",
        "\n",
        "def inverse_matrix(matrix):\n",
        "    # Mengecek apakah matriks adalah matriks persegi\n",
        "    if matrix.shape[0] != matrix.shape[1]:\n",
        "        raise ValueError(\"Matriks harus berbentuk persegi untuk memiliki matriks balikan\")\n",
        "\n",
        "    # fungsi inv dari NumPy untuk menghitung matriks balikan\n",
        "    try:\n",
        "        inverse = np.linalg.inv(matrix)\n",
        "        return inverse\n",
        "    except np.linalg.LinAlgError:\n",
        "        raise ValueError(\"Matriks tidak dapat diubah menjadi matriks balikan. Pastikan matriks tidak singular.\")\n",
        "\n",
        "# Contoh\n",
        "A = np.array([[1, 2], [3, 4]])\n",
        "print(\"Matriks A:\")\n",
        "print(A)\n",
        "\n",
        "try:\n",
        "    A_inverse = inverse_matrix(A)\n",
        "    print(\"\\nMatriks Balikan dari A:\")\n",
        "    print(A_inverse)\n",
        "except ValueError as e:\n",
        "    print(e)\n"
      ]
    },
    {
      "cell_type": "code",
      "source": [
        "import numpy as np\n",
        "\n",
        "def lu_decomposition(A):\n",
        "    n = len(A)\n",
        "    L = np.zeros((n, n))\n",
        "    U = np.zeros((n, n))\n",
        "\n",
        "    # Mendekomposisi matriks A menjadi matriks L dan U\n",
        "    for i in range(n):\n",
        "        L[i, i] = 1\n",
        "        for j in range(i, n):\n",
        "            U[i, j] = A[i, j] - np.dot(L[i, :i], U[:i, j])\n",
        "        for j in range(i+1, n):\n",
        "            L[j, i] = (A[j, i] - np.dot(L[j, :i], U[:i, i])) / U[i, i]\n",
        "\n",
        "    return L, U\n",
        "\n",
        "# Contoh penggunaan\n",
        "A = np.array([[2, -1, 3], [4, 4, -2], [6, 5, 1]])\n",
        "print(\"Matriks A:\")\n",
        "print(A)\n",
        "\n",
        "L, U = lu_decomposition(A)\n",
        "print(\"\\nMatriks Lower (L):\")\n",
        "print(L)\n",
        "print(\"\\nMatriks Upper (U):\")\n",
        "print(U)\n"
      ],
      "metadata": {
        "colab": {
          "base_uri": "https://localhost:8080/"
        },
        "id": "9u9QSdOvuoLl",
        "outputId": "29df3a6e-34fb-42f5-922c-f80e45068aec"
      },
      "execution_count": 3,
      "outputs": [
        {
          "output_type": "stream",
          "name": "stdout",
          "text": [
            "Matriks A:\n",
            "[[ 2 -1  3]\n",
            " [ 4  4 -2]\n",
            " [ 6  5  1]]\n",
            "\n",
            "Matriks Lower (L):\n",
            "[[1.         0.         0.        ]\n",
            " [2.         1.         0.        ]\n",
            " [3.         1.33333333 1.        ]]\n",
            "\n",
            "Matriks Upper (U):\n",
            "[[ 2.         -1.          3.        ]\n",
            " [ 0.          6.         -8.        ]\n",
            " [ 0.          0.          2.66666667]]\n"
          ]
        }
      ]
    },
    {
      "cell_type": "code",
      "source": [
        "import numpy as np\n",
        "\n",
        "def crout_decomposition(A):\n",
        "    n = len(A)\n",
        "    L = np.zeros((n, n))\n",
        "    U = np.zeros((n, n))\n",
        "\n",
        "    for j in range(n):\n",
        "        U[j, j] = 1  # Diagonal utama matriks U adalah 1\n",
        "        for i in range(j, n):\n",
        "            sum_val = sum(L[i, k] * U[k, j] for k in range(i))\n",
        "            L[i, j] = A[i, j] - sum_val\n",
        "        for i in range(j+1, n):\n",
        "            sum_val = sum(L[j, k] * U[k, i] for k in range(j))\n",
        "            U[j, i] = (A[j, i] - sum_val) / L[j, j]\n",
        "\n",
        "    return L, U\n",
        "\n",
        "# Contoh penggunaan\n",
        "A = np.array([[2, -1, 3], [4, 4, -2], [6, 5, 1]])\n",
        "print(\"Matriks A:\")\n",
        "print(A)\n",
        "\n",
        "L, U = crout_decomposition(A)\n",
        "print(\"\\nMatriks Lower (L):\")\n",
        "print(L)\n",
        "print(\"\\nMatriks Upper (U):\")\n",
        "print(U)\n"
      ],
      "metadata": {
        "colab": {
          "base_uri": "https://localhost:8080/"
        },
        "id": "PatrYSK2utrL",
        "outputId": "8961225c-d016-4967-89c3-64ec57ddcb5c"
      },
      "execution_count": 2,
      "outputs": [
        {
          "output_type": "stream",
          "name": "stdout",
          "text": [
            "Matriks A:\n",
            "[[ 2 -1  3]\n",
            " [ 4  4 -2]\n",
            " [ 6  5  1]]\n",
            "\n",
            "Matriks Lower (L):\n",
            "[[2.         0.         0.        ]\n",
            " [4.         6.         0.        ]\n",
            " [6.         8.         2.66666667]]\n",
            "\n",
            "Matriks Upper (U):\n",
            "[[ 1.         -0.5         1.5       ]\n",
            " [ 0.          1.         -1.33333333]\n",
            " [ 0.          0.          1.        ]]\n"
          ]
        }
      ]
    }
  ]
}